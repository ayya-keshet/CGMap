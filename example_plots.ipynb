{
 "cells": [
  {
   "cell_type": "code",
   "execution_count": 5,
   "metadata": {},
   "outputs": [],
   "source": [
    "import pandas as pd\n",
    "import matplotlib.pyplot as plt\n",
    "\n",
    "from age_ref_plot import plot_age_ref\n",
    "\n",
    "%load_ext autoreload\n",
    "%autoreload 2"
   ]
  },
  {
   "cell_type": "code",
   "execution_count": 8,
   "metadata": {},
   "outputs": [
    {
     "data": {
      "text/html": [
       "<div>\n",
       "<style scoped>\n",
       "    .dataframe tbody tr th:only-of-type {\n",
       "        vertical-align: middle;\n",
       "    }\n",
       "\n",
       "    .dataframe tbody tr th {\n",
       "        vertical-align: top;\n",
       "    }\n",
       "\n",
       "    .dataframe thead th {\n",
       "        text-align: right;\n",
       "    }\n",
       "</style>\n",
       "<table border=\"1\" class=\"dataframe\">\n",
       "  <thead>\n",
       "    <tr style=\"text-align: right;\">\n",
       "      <th></th>\n",
       "      <th>Value</th>\n",
       "      <th>Gender</th>\n",
       "      <th>Age group</th>\n",
       "      <th>1</th>\n",
       "      <th>2</th>\n",
       "      <th>3</th>\n",
       "      <th>4</th>\n",
       "      <th>5</th>\n",
       "      <th>6</th>\n",
       "      <th>7</th>\n",
       "      <th>...</th>\n",
       "      <th>90</th>\n",
       "      <th>91</th>\n",
       "      <th>92</th>\n",
       "      <th>93</th>\n",
       "      <th>94</th>\n",
       "      <th>95</th>\n",
       "      <th>96</th>\n",
       "      <th>97</th>\n",
       "      <th>98</th>\n",
       "      <th>99</th>\n",
       "    </tr>\n",
       "  </thead>\n",
       "  <tbody>\n",
       "    <tr>\n",
       "      <th>0</th>\n",
       "      <td>ADRR</td>\n",
       "      <td>2</td>\n",
       "      <td>[40-50)</td>\n",
       "      <td>-0.997107</td>\n",
       "      <td>0.136341</td>\n",
       "      <td>0.846156</td>\n",
       "      <td>1.374632</td>\n",
       "      <td>1.800626</td>\n",
       "      <td>2.160220</td>\n",
       "      <td>2.473071</td>\n",
       "      <td>...</td>\n",
       "      <td>18.169345</td>\n",
       "      <td>18.398902</td>\n",
       "      <td>18.650009</td>\n",
       "      <td>18.928081</td>\n",
       "      <td>19.240938</td>\n",
       "      <td>19.600523</td>\n",
       "      <td>20.026511</td>\n",
       "      <td>20.554971</td>\n",
       "      <td>21.264807</td>\n",
       "      <td>22.398252</td>\n",
       "    </tr>\n",
       "    <tr>\n",
       "      <th>1</th>\n",
       "      <td>ADRR</td>\n",
       "      <td>2</td>\n",
       "      <td>[50-60)</td>\n",
       "      <td>-1.129505</td>\n",
       "      <td>0.003844</td>\n",
       "      <td>0.713625</td>\n",
       "      <td>1.242059</td>\n",
       "      <td>1.668019</td>\n",
       "      <td>2.027589</td>\n",
       "      <td>2.340436</td>\n",
       "      <td>...</td>\n",
       "      <td>18.036086</td>\n",
       "      <td>18.265622</td>\n",
       "      <td>18.516705</td>\n",
       "      <td>18.794753</td>\n",
       "      <td>19.107588</td>\n",
       "      <td>19.467154</td>\n",
       "      <td>19.893116</td>\n",
       "      <td>20.421575</td>\n",
       "      <td>21.131397</td>\n",
       "      <td>22.264789</td>\n",
       "    </tr>\n",
       "    <tr>\n",
       "      <th>2</th>\n",
       "      <td>ADRR</td>\n",
       "      <td>2</td>\n",
       "      <td>[60-70]</td>\n",
       "      <td>-1.059791</td>\n",
       "      <td>0.073704</td>\n",
       "      <td>0.783573</td>\n",
       "      <td>1.312072</td>\n",
       "      <td>1.738086</td>\n",
       "      <td>2.097700</td>\n",
       "      <td>2.410577</td>\n",
       "      <td>...</td>\n",
       "      <td>18.107745</td>\n",
       "      <td>18.337309</td>\n",
       "      <td>18.588426</td>\n",
       "      <td>18.866510</td>\n",
       "      <td>19.179387</td>\n",
       "      <td>19.539002</td>\n",
       "      <td>19.965015</td>\n",
       "      <td>20.493515</td>\n",
       "      <td>21.203384</td>\n",
       "      <td>22.336879</td>\n",
       "    </tr>\n",
       "    <tr>\n",
       "      <th>3</th>\n",
       "      <td>ADRR</td>\n",
       "      <td>0</td>\n",
       "      <td>[40-50)</td>\n",
       "      <td>-0.408778</td>\n",
       "      <td>0.712861</td>\n",
       "      <td>1.415245</td>\n",
       "      <td>1.938144</td>\n",
       "      <td>2.359627</td>\n",
       "      <td>2.715389</td>\n",
       "      <td>3.024903</td>\n",
       "      <td>...</td>\n",
       "      <td>18.550822</td>\n",
       "      <td>18.777919</td>\n",
       "      <td>19.026342</td>\n",
       "      <td>19.301449</td>\n",
       "      <td>19.610982</td>\n",
       "      <td>19.966762</td>\n",
       "      <td>20.388246</td>\n",
       "      <td>20.911146</td>\n",
       "      <td>21.613531</td>\n",
       "      <td>22.735172</td>\n",
       "    </tr>\n",
       "    <tr>\n",
       "      <th>4</th>\n",
       "      <td>ADRR</td>\n",
       "      <td>0</td>\n",
       "      <td>[50-60)</td>\n",
       "      <td>-0.839713</td>\n",
       "      <td>0.282455</td>\n",
       "      <td>0.985170</td>\n",
       "      <td>1.508316</td>\n",
       "      <td>1.929998</td>\n",
       "      <td>2.285945</td>\n",
       "      <td>2.595623</td>\n",
       "      <td>...</td>\n",
       "      <td>18.128980</td>\n",
       "      <td>18.356185</td>\n",
       "      <td>18.604724</td>\n",
       "      <td>18.879960</td>\n",
       "      <td>19.189639</td>\n",
       "      <td>19.545586</td>\n",
       "      <td>19.967268</td>\n",
       "      <td>20.490413</td>\n",
       "      <td>21.193129</td>\n",
       "      <td>22.315297</td>\n",
       "    </tr>\n",
       "  </tbody>\n",
       "</table>\n",
       "<p>5 rows × 102 columns</p>\n",
       "</div>"
      ],
      "text/plain": [
       "  Value  Gender Age group         1         2         3         4         5  \\\n",
       "0  ADRR       2   [40-50) -0.997107  0.136341  0.846156  1.374632  1.800626   \n",
       "1  ADRR       2   [50-60) -1.129505  0.003844  0.713625  1.242059  1.668019   \n",
       "2  ADRR       2   [60-70] -1.059791  0.073704  0.783573  1.312072  1.738086   \n",
       "3  ADRR       0   [40-50) -0.408778  0.712861  1.415245  1.938144  2.359627   \n",
       "4  ADRR       0   [50-60) -0.839713  0.282455  0.985170  1.508316  1.929998   \n",
       "\n",
       "          6         7  ...         90         91         92         93  \\\n",
       "0  2.160220  2.473071  ...  18.169345  18.398902  18.650009  18.928081   \n",
       "1  2.027589  2.340436  ...  18.036086  18.265622  18.516705  18.794753   \n",
       "2  2.097700  2.410577  ...  18.107745  18.337309  18.588426  18.866510   \n",
       "3  2.715389  3.024903  ...  18.550822  18.777919  19.026342  19.301449   \n",
       "4  2.285945  2.595623  ...  18.128980  18.356185  18.604724  18.879960   \n",
       "\n",
       "          94         95         96         97         98         99  \n",
       "0  19.240938  19.600523  20.026511  20.554971  21.264807  22.398252  \n",
       "1  19.107588  19.467154  19.893116  20.421575  21.131397  22.264789  \n",
       "2  19.179387  19.539002  19.965015  20.493515  21.203384  22.336879  \n",
       "3  19.610982  19.966762  20.388246  20.911146  21.613531  22.735172  \n",
       "4  19.189639  19.545586  19.967268  20.490413  21.193129  22.315297  \n",
       "\n",
       "[5 rows x 102 columns]"
      ]
     },
     "execution_count": 8,
     "metadata": {},
     "output_type": "execute_result"
    }
   ],
   "source": [
    "fname = \"../CGMap/iglu_reference_values/age_gender_percentiles_df.csv\"\n",
    "\n",
    "ref_df = pd.read_csv(fname)\n",
    "\n",
    "ref_df.head()"
   ]
  },
  {
   "cell_type": "code",
   "execution_count": 9,
   "metadata": {},
   "outputs": [
    {
     "data": {
      "text/plain": [
       "array(['ADRR', 'COGI', 'cv', 'eA1C', 'GMI', 'GRADE', 'GRADE_eugly',\n",
       "       'GRADE_hyper', 'GRADE_hypo', 'HBGI', 'LBGI', 'Hyper index',\n",
       "       'Hypo index', 'IGC', 'IQR', 'J_index', 'M value', 'MAD', 'MAGE',\n",
       "       '% above 140 (log odds)', '% above 180 (log odds)',\n",
       "       '% above 200 (log odds)', '% above 250 (log odds)',\n",
       "       '% below 54 (log odds)', '% below 70 (log odds)',\n",
       "       '% in 63-140 (log odds)', '% in 70-180 (log odds)', 'Range', 'SD',\n",
       "       'Min', '1st quartile', 'Median', 'Mean', '3rd quartile', 'Max',\n",
       "       'CONGA', 'GVP', 'MODD', 'SD.Roc', 'CVmean', 'CVsd', 'AUC', 'MAG',\n",
       "       'SDw', 'SDhhmm', 'SDwsh', 'SDdm', 'SDb', 'SDbdm'], dtype=object)"
      ]
     },
     "execution_count": 9,
     "metadata": {},
     "output_type": "execute_result"
    }
   ],
   "source": [
    "ref_df[\"Value\"].unique()"
   ]
  },
  {
   "cell_type": "code",
   "execution_count": 11,
   "metadata": {},
   "outputs": [
    {
     "data": {
      "text/plain": [
       "array(['[40-50)', '[50-60)', '[60-70]'], dtype=object)"
      ]
     },
     "execution_count": 11,
     "metadata": {},
     "output_type": "execute_result"
    }
   ],
   "source": [
    "ref_df[\"Age group\"].unique()"
   ]
  },
  {
   "cell_type": "code",
   "execution_count": null,
   "metadata": {},
   "outputs": [],
   "source": []
  },
  {
   "cell_type": "code",
   "execution_count": 7,
   "metadata": {},
   "outputs": [
    {
     "data": {
      "image/png": "[encoded data removed]",
      "text/plain": [
       "<Figure size 1000x500 with 1 Axes>"
      ]
     },
     "metadata": {},
     "output_type": "display_data"
    }
   ],
   "source": [
    "plot_age_ref()"
   ]
  },
  {
   "cell_type": "code",
   "execution_count": null,
   "metadata": {},
   "outputs": [],
   "source": []
  }
 ],
 "metadata": {
  "kernelspec": {
   "display_name": "Python 3.9.12 ('base')",
   "language": "python",
   "name": "python3"
  },
  "language_info": {
   "codemirror_mode": {
    "name": "ipython",
    "version": 3
   },
   "file_extension": ".py",
   "mimetype": "text/x-python",
   "name": "python",
   "nbconvert_exporter": "python",
   "pygments_lexer": "ipython3",
   "version": "3.9.12"
  },
  "orig_nbformat": 4,
  "vscode": {
   "interpreter": {
    "hash": "d4d1e4263499bec80672ea0156c357c1ee493ec2b1c70f0acce89fc37c4a6abe"
   }
  }
 },
 "nbformat": 4,
 "nbformat_minor": 2
}
