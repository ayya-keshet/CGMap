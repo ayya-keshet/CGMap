{
 "cells": [
  {
   "cell_type": "code",
   "execution_count": 1,
   "metadata": {},
   "outputs": [],
   "source": [
    "import pandas as pd\n",
    "import matplotlib.pyplot as plt\n",
    "\n",
    "from age_ref_plot import plot_age_ref\n",
    "\n",
    "%load_ext autoreload\n",
    "%autoreload 2"
   ]
  },
  {
   "cell_type": "code",
   "execution_count": 7,
   "metadata": {},
   "outputs": [
    {
     "data": {
      "text/html": [
       "<div>\n",
       "<style scoped>\n",
       "    .dataframe tbody tr th:only-of-type {\n",
       "        vertical-align: middle;\n",
       "    }\n",
       "\n",
       "    .dataframe tbody tr th {\n",
       "        vertical-align: top;\n",
       "    }\n",
       "\n",
       "    .dataframe thead th {\n",
       "        text-align: right;\n",
       "    }\n",
       "</style>\n",
       "<table border=\"1\" class=\"dataframe\">\n",
       "  <thead>\n",
       "    <tr style=\"text-align: right;\">\n",
       "      <th></th>\n",
       "      <th>Value</th>\n",
       "      <th>Gender</th>\n",
       "      <th>Age group</th>\n",
       "      <th>1</th>\n",
       "      <th>2</th>\n",
       "      <th>3</th>\n",
       "      <th>4</th>\n",
       "      <th>5</th>\n",
       "      <th>6</th>\n",
       "      <th>7</th>\n",
       "      <th>...</th>\n",
       "      <th>90</th>\n",
       "      <th>91</th>\n",
       "      <th>92</th>\n",
       "      <th>93</th>\n",
       "      <th>94</th>\n",
       "      <th>95</th>\n",
       "      <th>96</th>\n",
       "      <th>97</th>\n",
       "      <th>98</th>\n",
       "      <th>99</th>\n",
       "    </tr>\n",
       "  </thead>\n",
       "  <tbody>\n",
       "    <tr>\n",
       "      <th>0</th>\n",
       "      <td>ADRR</td>\n",
       "      <td>2</td>\n",
       "      <td>40</td>\n",
       "      <td>-2.286602</td>\n",
       "      <td>-1.153022</td>\n",
       "      <td>-0.443100</td>\n",
       "      <td>0.085439</td>\n",
       "      <td>0.511485</td>\n",
       "      <td>0.871126</td>\n",
       "      <td>1.184027</td>\n",
       "      <td>...</td>\n",
       "      <td>16.882370</td>\n",
       "      <td>17.111951</td>\n",
       "      <td>17.363087</td>\n",
       "      <td>17.641192</td>\n",
       "      <td>17.954093</td>\n",
       "      <td>18.313734</td>\n",
       "      <td>18.739780</td>\n",
       "      <td>19.268319</td>\n",
       "      <td>19.978241</td>\n",
       "      <td>21.111821</td>\n",
       "    </tr>\n",
       "    <tr>\n",
       "      <th>1</th>\n",
       "      <td>ADRR</td>\n",
       "      <td>2</td>\n",
       "      <td>41</td>\n",
       "      <td>-2.087719</td>\n",
       "      <td>-0.954151</td>\n",
       "      <td>-0.244236</td>\n",
       "      <td>0.284297</td>\n",
       "      <td>0.710338</td>\n",
       "      <td>1.069976</td>\n",
       "      <td>1.382873</td>\n",
       "      <td>...</td>\n",
       "      <td>17.081046</td>\n",
       "      <td>17.310624</td>\n",
       "      <td>17.561757</td>\n",
       "      <td>17.839860</td>\n",
       "      <td>18.152757</td>\n",
       "      <td>18.512394</td>\n",
       "      <td>18.938435</td>\n",
       "      <td>19.466968</td>\n",
       "      <td>20.176883</td>\n",
       "      <td>21.310451</td>\n",
       "    </tr>\n",
       "    <tr>\n",
       "      <th>2</th>\n",
       "      <td>ADRR</td>\n",
       "      <td>2</td>\n",
       "      <td>42</td>\n",
       "      <td>-1.729175</td>\n",
       "      <td>-0.595630</td>\n",
       "      <td>0.114270</td>\n",
       "      <td>0.642793</td>\n",
       "      <td>1.068825</td>\n",
       "      <td>1.428456</td>\n",
       "      <td>1.741346</td>\n",
       "      <td>...</td>\n",
       "      <td>17.439203</td>\n",
       "      <td>17.668777</td>\n",
       "      <td>17.919905</td>\n",
       "      <td>18.198002</td>\n",
       "      <td>18.510892</td>\n",
       "      <td>18.870523</td>\n",
       "      <td>19.296555</td>\n",
       "      <td>19.825078</td>\n",
       "      <td>20.534978</td>\n",
       "      <td>21.668523</td>\n",
       "    </tr>\n",
       "    <tr>\n",
       "      <th>3</th>\n",
       "      <td>ADRR</td>\n",
       "      <td>2</td>\n",
       "      <td>43</td>\n",
       "      <td>-1.254813</td>\n",
       "      <td>-0.121299</td>\n",
       "      <td>0.588583</td>\n",
       "      <td>1.117091</td>\n",
       "      <td>1.543112</td>\n",
       "      <td>1.902733</td>\n",
       "      <td>2.215615</td>\n",
       "      <td>...</td>\n",
       "      <td>17.913054</td>\n",
       "      <td>18.142622</td>\n",
       "      <td>18.393743</td>\n",
       "      <td>18.671832</td>\n",
       "      <td>18.984714</td>\n",
       "      <td>19.344335</td>\n",
       "      <td>19.770356</td>\n",
       "      <td>20.298865</td>\n",
       "      <td>21.008746</td>\n",
       "      <td>22.142261</td>\n",
       "    </tr>\n",
       "    <tr>\n",
       "      <th>4</th>\n",
       "      <td>ADRR</td>\n",
       "      <td>2</td>\n",
       "      <td>44</td>\n",
       "      <td>-1.004666</td>\n",
       "      <td>0.128817</td>\n",
       "      <td>0.838678</td>\n",
       "      <td>1.367172</td>\n",
       "      <td>1.793180</td>\n",
       "      <td>2.152791</td>\n",
       "      <td>2.465664</td>\n",
       "      <td>...</td>\n",
       "      <td>18.162657</td>\n",
       "      <td>18.392218</td>\n",
       "      <td>18.643332</td>\n",
       "      <td>18.921414</td>\n",
       "      <td>19.234287</td>\n",
       "      <td>19.593898</td>\n",
       "      <td>20.019907</td>\n",
       "      <td>20.548400</td>\n",
       "      <td>21.258262</td>\n",
       "      <td>22.391744</td>\n",
       "    </tr>\n",
       "  </tbody>\n",
       "</table>\n",
       "<p>5 rows × 102 columns</p>\n",
       "</div>"
      ],
      "text/plain": [
       "  Value  Gender  Age group         1         2         3         4         5  \\\n",
       "0  ADRR       2         40 -2.286602 -1.153022 -0.443100  0.085439  0.511485   \n",
       "1  ADRR       2         41 -2.087719 -0.954151 -0.244236  0.284297  0.710338   \n",
       "2  ADRR       2         42 -1.729175 -0.595630  0.114270  0.642793  1.068825   \n",
       "3  ADRR       2         43 -1.254813 -0.121299  0.588583  1.117091  1.543112   \n",
       "4  ADRR       2         44 -1.004666  0.128817  0.838678  1.367172  1.793180   \n",
       "\n",
       "          6         7  ...         90         91         92         93  \\\n",
       "0  0.871126  1.184027  ...  16.882370  17.111951  17.363087  17.641192   \n",
       "1  1.069976  1.382873  ...  17.081046  17.310624  17.561757  17.839860   \n",
       "2  1.428456  1.741346  ...  17.439203  17.668777  17.919905  18.198002   \n",
       "3  1.902733  2.215615  ...  17.913054  18.142622  18.393743  18.671832   \n",
       "4  2.152791  2.465664  ...  18.162657  18.392218  18.643332  18.921414   \n",
       "\n",
       "          94         95         96         97         98         99  \n",
       "0  17.954093  18.313734  18.739780  19.268319  19.978241  21.111821  \n",
       "1  18.152757  18.512394  18.938435  19.466968  20.176883  21.310451  \n",
       "2  18.510892  18.870523  19.296555  19.825078  20.534978  21.668523  \n",
       "3  18.984714  19.344335  19.770356  20.298865  21.008746  22.142261  \n",
       "4  19.234287  19.593898  20.019907  20.548400  21.258262  22.391744  \n",
       "\n",
       "[5 rows x 102 columns]"
      ]
     },
     "execution_count": 7,
     "metadata": {},
     "output_type": "execute_result"
    }
   ],
   "source": [
    "fname = \"../CGMap/iglu_reference_values/age_gender_percentiles_df.csv\"\n",
    "ref_df = pd.read_csv(fname, index_col=0)\n",
    "\n",
    "ref_df.head()"
   ]
  },
  {
   "cell_type": "code",
   "execution_count": 8,
   "metadata": {},
   "outputs": [
    {
     "data": {
      "text/plain": [
       "array(['ADRR', 'COGI', 'cv', 'eA1C', 'GMI', 'GRADE', 'GRADE_eugly',\n",
       "       'GRADE_hyper (log odds)', 'GRADE_hypo (log odds)',\n",
       "       'HBGI (log odds)', 'LBGI (log odds)', 'Hyper index (log odds)',\n",
       "       'Hypo index (log odds)', 'IGC (log odds)', 'IQR', 'J_index',\n",
       "       'M value', 'MAD', 'MAGE', '% above 140 (log odds)',\n",
       "       '% above 180 (log odds)', '% above 200 (log odds)',\n",
       "       '% above 250 (log odds)', '% below 54 (log odds)',\n",
       "       '% below 70 (log odds)', '% in 63-140 (log odds)',\n",
       "       '% in 70-180 (log odds)', 'Range', 'SD', 'Min', '1st quartile',\n",
       "       'Median', 'Mean', '3rd quartile', 'Max', 'CONGA', 'GVP', 'MODD',\n",
       "       'SD.Roc', 'CVmean', 'CVsd', 'AUC', 'MAG', 'SDw', 'SDhhmm', 'SDwsh',\n",
       "       'SDdm', 'SDb', 'SDbdm'], dtype=object)"
      ]
     },
     "execution_count": 8,
     "metadata": {},
     "output_type": "execute_result"
    }
   ],
   "source": [
    "ref_df[\"Value\"].unique()"
   ]
  },
  {
   "cell_type": "code",
   "execution_count": 9,
   "metadata": {},
   "outputs": [
    {
     "data": {
      "text/plain": [
       "array([40, 41, 42, 43, 44, 45, 46, 47, 48, 49, 50, 51, 52, 53, 54, 55, 56,\n",
       "       57, 58, 59, 60, 61, 62, 63, 64, 65, 66, 67, 68, 69, 70])"
      ]
     },
     "execution_count": 9,
     "metadata": {},
     "output_type": "execute_result"
    }
   ],
   "source": [
    "ref_df[\"Age group\"].unique()"
   ]
  },
  {
   "cell_type": "code",
   "execution_count": 53,
   "metadata": {},
   "outputs": [
    {
     "data": {
      "text/plain": [
       "<matplotlib.lines.Line2D at 0x409fbc38e0>"
      ]
     },
     "execution_count": 53,
     "metadata": {},
     "output_type": "execute_result"
    },
    {
     "data": {
      "image/png": "[encoded data removed]",
      "text/plain": [
       "<Figure size 800x500 with 1 Axes>"
      ]
     },
     "metadata": {},
     "output_type": "display_data"
    }
   ],
   "source": [
    "iglu_var = \"eA1C\"\n",
    "gender = 0\n",
    "plot_age_ref(iglu_var, gender)\n",
    "\n",
    "\n",
    "ax = plt.gca()\n",
    "age = 55\n",
    "val = 5.3\n",
    "ax.scatter([age], [val], marker=\"X\", s=250, alpha=0.5)\n",
    "ax.axhline(val, alpha=0.5, ls=\":\")\n",
    "ax.axvline(age, alpha=0.5, ls=\":\")"
   ]
  },
  {
   "cell_type": "code",
   "execution_count": null,
   "metadata": {},
   "outputs": [],
   "source": []
  }
 ],
 "metadata": {
  "kernelspec": {
   "display_name": "Python 3.9.12 ('base')",
   "language": "python",
   "name": "python3"
  },
  "language_info": {
   "codemirror_mode": {
    "name": "ipython",
    "version": 3
   },
   "file_extension": ".py",
   "mimetype": "text/x-python",
   "name": "python",
   "nbconvert_exporter": "python",
   "pygments_lexer": "ipython3",
   "version": "3.9.12"
  },
  "orig_nbformat": 4,
  "vscode": {
   "interpreter": {
    "hash": "d4d1e4263499bec80672ea0156c357c1ee493ec2b1c70f0acce89fc37c4a6abe"
   }
  }
 },
 "nbformat": 4,
 "nbformat_minor": 2
}
